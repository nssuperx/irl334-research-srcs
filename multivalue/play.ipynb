{
 "cells": [
  {
   "attachments": {},
   "cell_type": "markdown",
   "metadata": {},
   "source": [
    "# ブリックを実装する\n",
    "\n",
    "これは，[このコード](https://github.com/nssuperx/irl334-research-srcs/blob/main/multivalue/play.py)とそれに付随するモジュールのipynb版です．\n",
    "\n",
    "PyTorchを使用します．"
   ]
  },
  {
   "attachments": {},
   "cell_type": "markdown",
   "metadata": {},
   "source": [
    "## 1つのブリックを作る\n",
    "\n",
    "何次元かの入力を受け取って，興奮したかしてないかを出力する素子を作ります．\n",
    "* 入力するデータを用意\n",
    "* ブリックの入力素子に入力\n",
    "* 状態を選択\n",
    "* 出力\n",
    "\n",
    "の順で説明します．"
   ]
  },
  {
   "attachments": {},
   "cell_type": "markdown",
   "metadata": {},
   "source": [
    "### 入力するデータの用意\n",
    "\n",
    "PyTorch DataLoaderを使用します．データセットはMNISTを使います．"
   ]
  },
  {
   "cell_type": "code",
   "execution_count": 5,
   "metadata": {},
   "outputs": [],
   "source": [
    "from torchvision import datasets\n",
    "from torchvision.transforms import ToTensor\n",
    "from torch.utils.data import DataLoader\n",
    "\n",
    "datasets_path: str = \"../pt_datasets\"\n",
    "\n",
    "train_dataset = datasets.MNIST(\n",
    "    root=datasets_path,\n",
    "    train=True,\n",
    "    download=True,\n",
    "    transform=ToTensor(),\n",
    ")\n",
    "test_dataset = datasets.MNIST(\n",
    "    root=datasets_path,\n",
    "    train=False,\n",
    "    download=True,\n",
    "    transform=ToTensor(),\n",
    ")\n",
    "\n",
    "MNIST_classes = datasets.MNIST.classes"
   ]
  },
  {
   "cell_type": "code",
   "execution_count": null,
   "metadata": {},
   "outputs": [],
   "source": [
    "print(train_dataset)\n",
    "print(MNIST_classes)"
   ]
  },
  {
   "attachments": {},
   "cell_type": "markdown",
   "metadata": {},
   "source": [
    "データセットを読み込みました．次はこれを扱いやすくします．PyTorchではDataLoaderを使います．"
   ]
  },
  {
   "cell_type": "code",
   "execution_count": 7,
   "metadata": {},
   "outputs": [],
   "source": [
    "batch_size: int = 10\n",
    "\n",
    "trainloader = DataLoader(train_dataset, batch_size, shuffle=True)\n",
    "testloader = DataLoader(test_dataset, batch_size, shuffle=False)"
   ]
  },
  {
   "cell_type": "code",
   "execution_count": null,
   "metadata": {},
   "outputs": [],
   "source": [
    "print(trainloader)"
   ]
  }
 ],
 "metadata": {
  "kernelspec": {
   "display_name": "env",
   "language": "python",
   "name": "python3"
  },
  "language_info": {
   "codemirror_mode": {
    "name": "ipython",
    "version": 3
   },
   "file_extension": ".py",
   "mimetype": "text/x-python",
   "name": "python",
   "nbconvert_exporter": "python",
   "pygments_lexer": "ipython3",
   "version": "3.10.6"
  },
  "orig_nbformat": 4,
  "vscode": {
   "interpreter": {
    "hash": "b90b913b89a40f3aa5183f10189f5ecd8008f1986104f23a6eeb6046681baf75"
   }
  }
 },
 "nbformat": 4,
 "nbformat_minor": 2
}
