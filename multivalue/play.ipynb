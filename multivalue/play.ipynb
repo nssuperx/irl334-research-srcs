{
 "cells": [
  {
   "attachments": {},
   "cell_type": "markdown",
   "metadata": {},
   "source": [
    "# ブリックを実装する\n",
    "\n",
    "これは，[このコード](https://github.com/nssuperx/irl334-research-srcs/blob/main/multivalue/play.py)とそれに付随するモジュールのipynb版です．\n",
    "\n",
    "PyTorchを使用します．"
   ]
  },
  {
   "attachments": {},
   "cell_type": "markdown",
   "metadata": {},
   "source": [
    "## 1つのブリックを作る\n",
    "\n",
    "何次元かの入力を受け取って，興奮したかしてないかを出力する素子を作ります．\n",
    "* 入力するデータを用意\n",
    "* ブリックの入力素子に入力\n",
    "* 状態を選択\n",
    "* 出力\n",
    "\n",
    "の順で説明します．"
   ]
  },
  {
   "attachments": {},
   "cell_type": "markdown",
   "metadata": {},
   "source": [
    "### 入力するデータの用意\n",
    "\n",
    "PyTorch DataLoaderを使用します．"
   ]
  },
  {
   "cell_type": "code",
   "execution_count": null,
   "metadata": {},
   "outputs": [],
   "source": [
    "from torchvision import datasets\n",
    "from torchvision.transforms import ToTensor\n",
    "from torch.utils.data import DataLoader"
   ]
  },
  {
   "attachments": {},
   "cell_type": "markdown",
   "metadata": {},
   "source": [
    "データセットはMNISTを使います．"
   ]
  },
  {
   "cell_type": "code",
   "execution_count": null,
   "metadata": {},
   "outputs": [],
   "source": [
    "datasets_path: str = \"../pt_datasets\"\n",
    "\n",
    "train_dataset = datasets.MNIST(\n",
    "    root=datasets_path,\n",
    "    train=True,\n",
    "    download=True,\n",
    "    transform=ToTensor(),\n",
    ")\n",
    "test_dataset = datasets.MNIST(\n",
    "    root=datasets_path,\n",
    "    train=False,\n",
    "    download=True,\n",
    "    transform=ToTensor(),\n",
    ")\n",
    "\n",
    "MNIST_classes = datasets.MNIST.classes"
   ]
  },
  {
   "cell_type": "code",
   "execution_count": null,
   "metadata": {},
   "outputs": [],
   "source": [
    "print(train_dataset)\n",
    "print(MNIST_classes)"
   ]
  },
  {
   "attachments": {},
   "cell_type": "markdown",
   "metadata": {},
   "source": [
    "MNISTではなく，もっと小さいデータを扱いたいなら，以下のものを使用してください．縦棒のデータセットを作ります．\n",
    "小さいデータセットなので，学習，テストで分けていません．\n",
    "モデルの動作確認のみに使用してください．**ベンチマークで使用しない**でください．インチキです．"
   ]
  },
  {
   "cell_type": "code",
   "execution_count": null,
   "metadata": {},
   "outputs": [],
   "source": [
    "from typing import Tuple\n",
    "import itertools\n",
    "import torch\n",
    "from torch.utils.data import Dataset\n",
    "\n",
    "class VerticalLine(Dataset):\n",
    "    def __init__(self) -> None:\n",
    "        super().__init__()\n",
    "        pattern = (\n",
    "            (0, 0, 0),\n",
    "            (1, 0, 0),\n",
    "            (0, 1, 0),\n",
    "            (0, 0, 1))\n",
    "        choices = itertools.product(range(4), repeat=3)\n",
    "        correct_pattern_choice = ((1, 1, 1), (2, 2, 2), (3, 3, 3))\n",
    "        self.data: list[tuple[torch.Tensor, int]] = []\n",
    "\n",
    "        for c in choices:\n",
    "            array_tmp = []\n",
    "            for i in c:\n",
    "                array_tmp.append(pattern[i])\n",
    "            self.data.append((torch.Tensor(array_tmp), 1 if c in correct_pattern_choice else 0))\n",
    "\n",
    "    def __getitem__(self, index: int) -> Tuple[torch.Tensor, int]:\n",
    "        return self.data[index][0], self.data[index][1]\n",
    "\n",
    "    def __len__(self) -> int:\n",
    "        return len(self.data)"
   ]
  },
  {
   "cell_type": "code",
   "execution_count": null,
   "metadata": {},
   "outputs": [],
   "source": [
    "train_datasets = VerticalLine()\n",
    "test_datasets = VerticalLine()"
   ]
  },
  {
   "attachments": {},
   "cell_type": "markdown",
   "metadata": {},
   "source": [
    "データセットを読み込みました．次はこれを扱いやすくします．PyTorchではDataLoaderを使います．"
   ]
  },
  {
   "cell_type": "code",
   "execution_count": null,
   "metadata": {},
   "outputs": [],
   "source": [
    "batch_size: int = 10\n",
    "\n",
    "trainloader = DataLoader(train_dataset, batch_size, shuffle=True)\n",
    "testloader = DataLoader(test_dataset, batch_size, shuffle=False)"
   ]
  },
  {
   "cell_type": "code",
   "execution_count": 1,
   "metadata": {},
   "outputs": [],
   "source": [
    "print(trainloader)"
   ]
  },
  {
   "attachments": {},
   "cell_type": "markdown",
   "metadata": {},
   "source": [
    "興味があるなら中身を見てみましょう．"
   ]
  },
  {
   "cell_type": "code",
   "execution_count": null,
   "metadata": {},
   "outputs": [],
   "source": [
    "tl_iter = iter(trainloader)\n",
    "data = next(tl_iter)\n",
    "print(data)\n",
    "print(type(data))\n",
    "print(len(data))"
   ]
  },
  {
   "attachments": {},
   "cell_type": "markdown",
   "metadata": {},
   "source": [
    "上記の手順は，簡単に説明すると，Pythonのfor文の1回目の動作を手作業でやっています．\n",
    "普通はやるべきではないです．\n",
    "\n",
    "DataLoaderは要素数2のリストを返してくるようです．"
   ]
  },
  {
   "cell_type": "code",
   "execution_count": null,
   "metadata": {},
   "outputs": [],
   "source": [
    "print(type(data[0]))\n",
    "print(type(data[1]))\n",
    "print(f\"data[0] size: {len(data[0])}\")\n",
    "print(f\"data[1] size: {len(data[1])}\")\n",
    "print(data[0][0])\n",
    "print(data[1][0])"
   ]
  },
  {
   "attachments": {},
   "cell_type": "markdown",
   "metadata": {},
   "source": [
    "もっと中身を見てみます．\n",
    "中身は入力として与えるTensorと，正解ラベルのTensorの組です．\n",
    "要素数はそれぞれDataLoaderを作るときに与えたバッチサイズの値です．"
   ]
  },
  {
   "attachments": {},
   "cell_type": "markdown",
   "metadata": {},
   "source": [
    "まとめると，DataLoaderは以下のことをします．\n",
    "* 入力と正解の組を返す\n",
    "* それぞれの型はTensor，要素数はバッチサイズ\n",
    "\n",
    "詳しくは[Pytorchのリファレンス](https://pytorch.org/docs/stable/data.html)を見てください．\n",
    "[Tensor](https://pytorch.org/docs/stable/tensors.html)とは，PyTorchで扱う様々な機能がある便利な配列型です．\n",
    "\n",
    "これでデータを扱う準備ができました．"
   ]
  },
  {
   "attachments": {},
   "cell_type": "markdown",
   "metadata": {},
   "source": [
    "実験をする前に，DataLoaderをもとの状態に戻します．"
   ]
  },
  {
   "cell_type": "code",
   "execution_count": null,
   "metadata": {},
   "outputs": [],
   "source": [
    "batch_size: int = 10\n",
    "\n",
    "trainloader = DataLoader(train_dataset, batch_size, shuffle=True)\n",
    "testloader = DataLoader(test_dataset, batch_size, shuffle=False)"
   ]
  },
  {
   "attachments": {},
   "cell_type": "markdown",
   "metadata": {},
   "source": [
    "### ブリックに入力する\n",
    "\n",
    "ブリックへの入力を説明しますが，その前に少しだけPyTorchの使い方を説明します．"
   ]
  },
  {
   "attachments": {},
   "cell_type": "markdown",
   "metadata": {},
   "source": [
    "#### `nn.module`\n",
    "\n",
    "最近の深層神経回路モデルでは，ニューロンの**層**を何個も重ねて回路を構築します．\n",
    "PyTorchでは回路を**モジュール**を組み合わせて構築します．\n",
    "普段の実験では，この**モジュール**に入力を与えて出力させます．\n",
    "手っ取り早く使うための知識と方法を説明します．\n",
    "\n",
    "* モジュールは **`nn.Module`を継承したクラス**\n",
    "* 何らかのパラメータ（重み weight）などを持たせられる\n",
    "* **`forward`関数が実装されてないといけない**（[インターフェース](https://ja.wikipedia.org/wiki/%E3%82%A4%E3%83%B3%E3%82%BF%E3%83%95%E3%82%A7%E3%83%BC%E3%82%B9_(%E6%8A%BD%E8%B1%A1%E5%9E%8B))を知っているとよい．この考え方に近い．）\n",
    "* `forward`関数は入力としてTensor型のベクトルを受け取り，Tensor型のベクトルを返す必要がある\n",
    "\n",
    "\n",
    "詳しいことは[リファレンス](https://pytorch.org/docs/stable/generated/torch.nn.Module.html)を見てください．"
   ]
  }
 ],
 "metadata": {
  "kernelspec": {
   "display_name": "env",
   "language": "python",
   "name": "python3"
  },
  "language_info": {
   "codemirror_mode": {
    "name": "ipython",
    "version": 3
   },
   "file_extension": ".py",
   "mimetype": "text/x-python",
   "name": "python",
   "nbconvert_exporter": "python",
   "pygments_lexer": "ipython3",
   "version": "3.10.6"
  },
  "orig_nbformat": 4,
  "vscode": {
   "interpreter": {
    "hash": "b90b913b89a40f3aa5183f10189f5ecd8008f1986104f23a6eeb6046681baf75"
   }
  }
 },
 "nbformat": 4,
 "nbformat_minor": 2
}
